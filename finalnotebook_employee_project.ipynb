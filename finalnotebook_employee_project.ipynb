{
 "cells": [
  {
   "cell_type": "markdown",
   "metadata": {},
   "source": [
    "\n",
    "<div align=\"center\"><img width=\"375\" height=\"35\" src=\"https://t1nc.org/wp-content/uploads/2018/08/SAN-ANTONIO-THUMB-shutterstock_448844578-660--768x614.jpg\" /> </div> \n",
    "\n",
    "\n",
    "<div align=\"center\"> <h1>Individual Project - Predicting Gender based on Salary Data</h1> \n",
    "  <h6> by David Berchelmann -- April 9, 2021 </h6> </div>\n",
    "  \n",
    "  ------------------------------------------------\n"
   ]
  },
  {
   "cell_type": "markdown",
   "metadata": {},
   "source": [
    "---\n",
    "\n",
    "<h1> Welcome! </h1>\n",
    "\n",
    "The following jupyter notebook will take you through my individual project focusing on the relationship between gender and salary for the city of San ANtonio. The dataset comes from data.world and can be accessed here https://data.world/amillerbernd/san-antonio-city-salary-data or via csv from my git hub. \n",
    "\n",
    "All of the files and notebooks for this project can be accessed via the github repostiory located at --> https://github.com/DBerchelmann/employee-classification\n",
    "\n",
    "For ease of reading, many of the large coding sections have been minimzed to allow for a better scrolling experience. If you would like to enlarge a cell to see the data inside, please click on the three dots (<b>...</b>) for the specific cell. To reduce the cell, click the blue box to the left of the selected cell.\n",
    "\n",
    "----"
   ]
  },
  {
   "cell_type": "markdown",
   "metadata": {},
   "source": [
    "<a id='back'></a>\n",
    "### Quick Links to Sections within this Notebook\n",
    "\n",
    "- [Executive Summary](#BC)\n",
    "- [Acquire Data](#AD)\n",
    "- [Prepare Data](#PD)\n",
    "- [Explore Data](#Explore)\n",
    "- [Data Dictionary](#DY)\n",
    "- [Hypothesis Testing](#Hypo)\n",
    "- [Clustering](#CD)\n",
    "- [Modeling](#Model)\n",
    "- [Evaluate](#Eval)\n",
    "- [Recommendations & Key Takeaways](#Conclusion)"
   ]
  },
  {
   "cell_type": "markdown",
   "metadata": {},
   "source": [
    "<h1> Executive Summary </h1>\n",
    "\n",
    "<a id='BC'></a>\n",
    "\n",
    "[back to top](#back)\n",
    "\n",
    "------\n",
    "\n",
    "<h4><b>The Problem</b></h4>\n",
    "\n",
    "- Is there a gender pay gap at the city of San Antonio?\n",
    "\n",
    "<h4><b>The Goal</b></h4>\n",
    "\n",
    "- Use classification to determine if gender can be predicted using salary data from fiscal year 2016\n",
    "\n",
    "<h4><b>The Process</b></h4>\n",
    "\n",
    "  * Acquire the Data\n",
    "  * Prepare \n",
    "  * Explore \n",
    "  * Model\n",
    "  * Create Recommendations Based On Findings \n",
    "  \n",
    "<h4><b>The Findings</b></h4>\n",
    "\n",
    "- Exploration revealed that there is definitley a gender pay gap\n",
    "- My Random Forest classification model accurately predicted gender 76% of the time beating the baseline of 65%\n",
    "- Not only is there gender pay gap but there is also a discrepancy in pay by ethnicity\n",
    "- More indepth analysis needs to be done \n",
    "- Modeling can be further refined by splitting up the salaries by department and investigating pay gap discrepancies.\n",
    "     - <i>Baseline Accuracy --> 65% </i>\n",
    "     - <b>Random Forest Accuracy on out of sample test data --> 76%</b>\n",
    "\n",
    "    \n",
    "    \n",
    "\n",
    "\n",
    "-------\n"
   ]
  },
  {
   "cell_type": "code",
   "execution_count": null,
   "metadata": {},
   "outputs": [],
   "source": []
  },
  {
   "cell_type": "code",
   "execution_count": null,
   "metadata": {},
   "outputs": [],
   "source": []
  },
  {
   "cell_type": "markdown",
   "metadata": {},
   "source": [
    "-----\n",
    "<h3> Environment Setup</h3>\n",
    "\n",
    "----"
   ]
  },
  {
   "cell_type": "code",
   "execution_count": 1,
   "metadata": {
    "jupyter": {
     "source_hidden": true
    }
   },
   "outputs": [],
   "source": [
    "import pandas as pd\n",
    "import numpy as np\n",
    "import matplotlib.pyplot as plt\n",
    "import seaborn as sns\n",
    "import sklearn as sk\n",
    "from scipy import stats\n",
    "import warnings\n",
    "warnings.filterwarnings('ignore')\n",
    "\n",
    "from sklearn.linear_model import LogisticRegression\n",
    "from sklearn.neighbors import KNeighborsClassifier\n",
    "from sklearn.ensemble import RandomForestClassifier\n",
    "from sklearn.tree import DecisionTreeClassifier\n",
    "from sklearn.tree import export_graphviz\n",
    "import graphviz\n",
    "from graphviz import Graph\n",
    "from sklearn.metrics import classification_report\n",
    "from sklearn.metrics import confusion_matrix\n",
    "\n",
    "import plotly.express as px\n",
    "from datetime import date \n",
    "from wrangle import new_city_data, clean_city, missing_zero_values_table, train_validate_test_split\n",
    "import explore\n",
    "\n",
    "from model import run_model"
   ]
  },
  {
   "cell_type": "code",
   "execution_count": null,
   "metadata": {},
   "outputs": [],
   "source": []
  }
 ],
 "metadata": {
  "kernelspec": {
   "display_name": "Python 3",
   "language": "python",
   "name": "python3"
  },
  "language_info": {
   "codemirror_mode": {
    "name": "ipython",
    "version": 3
   },
   "file_extension": ".py",
   "mimetype": "text/x-python",
   "name": "python",
   "nbconvert_exporter": "python",
   "pygments_lexer": "ipython3",
   "version": "3.8.5"
  }
 },
 "nbformat": 4,
 "nbformat_minor": 4
}
